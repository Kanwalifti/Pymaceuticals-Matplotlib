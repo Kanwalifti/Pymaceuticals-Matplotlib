{
 "cells": [
  {
   "cell_type": "markdown",
   "metadata": {},
   "source": [
    "# Pymaceuticals Inc.\n",
    "---\n",
    "\n",
    "### Analysis\n",
    "The bar graph shows that Capomulin is the most commonly used drug regimen with 230 mice, while Zoniferol has the lowest number of mice at 182. After removing duplicates, the total number of mice is 248, with 124 females and 125 males.\n",
    "\n",
    "The correlation between mouse weight and average tumor volume is a strong positive correlation of 0.84. This means that as mouse weight increases, the average tumor volume also increases.\n",
    "\n",
    "The regression analysis helps predict how much the average tumor volume will change with changes in mouse weight. The R-squared value of 0.70 indicates that the model fits the data well and can predict outcomes with reasonable accuracy. Higher R-squared values suggest smaller differences between observed and fitted data, and in this case, the model explains 70% of the variation in response variable around its mean.\n",
    "\n",
    "Of the selected treatments, Capomulin and Ramicane have shown to be more effective in reducing tumor size.\n",
    "\n"
   ]
  },
  {
   "cell_type": "code",
   "execution_count": 1,
   "metadata": {},
   "outputs": [
    {
     "data": {
      "text/html": [
       "<div>\n",
       "<style scoped>\n",
       "    .dataframe tbody tr th:only-of-type {\n",
       "        vertical-align: middle;\n",
       "    }\n",
       "\n",
       "    .dataframe tbody tr th {\n",
       "        vertical-align: top;\n",
       "    }\n",
       "\n",
       "    .dataframe thead th {\n",
       "        text-align: right;\n",
       "    }\n",
       "</style>\n",
       "<table border=\"1\" class=\"dataframe\">\n",
       "  <thead>\n",
       "    <tr style=\"text-align: right;\">\n",
       "      <th></th>\n",
       "      <th>Mouse ID</th>\n",
       "      <th>Timepoint</th>\n",
       "      <th>Tumor Volume (mm3)</th>\n",
       "      <th>Metastatic Sites</th>\n",
       "      <th>Drug Regimen</th>\n",
       "      <th>Sex</th>\n",
       "      <th>Age_months</th>\n",
       "      <th>Weight (g)</th>\n",
       "    </tr>\n",
       "  </thead>\n",
       "  <tbody>\n",
       "    <tr>\n",
       "      <th>0</th>\n",
       "      <td>b128</td>\n",
       "      <td>0</td>\n",
       "      <td>45.0</td>\n",
       "      <td>0</td>\n",
       "      <td>Capomulin</td>\n",
       "      <td>Female</td>\n",
       "      <td>9</td>\n",
       "      <td>22</td>\n",
       "    </tr>\n",
       "    <tr>\n",
       "      <th>1</th>\n",
       "      <td>f932</td>\n",
       "      <td>0</td>\n",
       "      <td>45.0</td>\n",
       "      <td>0</td>\n",
       "      <td>Ketapril</td>\n",
       "      <td>Male</td>\n",
       "      <td>15</td>\n",
       "      <td>29</td>\n",
       "    </tr>\n",
       "    <tr>\n",
       "      <th>2</th>\n",
       "      <td>g107</td>\n",
       "      <td>0</td>\n",
       "      <td>45.0</td>\n",
       "      <td>0</td>\n",
       "      <td>Ketapril</td>\n",
       "      <td>Female</td>\n",
       "      <td>2</td>\n",
       "      <td>29</td>\n",
       "    </tr>\n",
       "    <tr>\n",
       "      <th>3</th>\n",
       "      <td>a457</td>\n",
       "      <td>0</td>\n",
       "      <td>45.0</td>\n",
       "      <td>0</td>\n",
       "      <td>Ketapril</td>\n",
       "      <td>Female</td>\n",
       "      <td>11</td>\n",
       "      <td>30</td>\n",
       "    </tr>\n",
       "    <tr>\n",
       "      <th>4</th>\n",
       "      <td>c819</td>\n",
       "      <td>0</td>\n",
       "      <td>45.0</td>\n",
       "      <td>0</td>\n",
       "      <td>Ketapril</td>\n",
       "      <td>Male</td>\n",
       "      <td>21</td>\n",
       "      <td>25</td>\n",
       "    </tr>\n",
       "  </tbody>\n",
       "</table>\n",
       "</div>"
      ],
      "text/plain": [
       "  Mouse ID  Timepoint  Tumor Volume (mm3)  Metastatic Sites Drug Regimen  \\\n",
       "0     b128          0                45.0                 0    Capomulin   \n",
       "1     f932          0                45.0                 0     Ketapril   \n",
       "2     g107          0                45.0                 0     Ketapril   \n",
       "3     a457          0                45.0                 0     Ketapril   \n",
       "4     c819          0                45.0                 0     Ketapril   \n",
       "\n",
       "      Sex  Age_months  Weight (g)  \n",
       "0  Female           9          22  \n",
       "1    Male          15          29  \n",
       "2  Female           2          29  \n",
       "3  Female          11          30  \n",
       "4    Male          21          25  "
      ]
     },
     "execution_count": 1,
     "metadata": {},
     "output_type": "execute_result"
    }
   ],
   "source": [
    "# Dependencies and Setup\n",
    "import matplotlib.pyplot as plt\n",
    "import pandas as pd\n",
    "import scipy.stats as st\n",
    "\n",
    "# Study data files\n",
    "mouse_metadata_path = \"../Pymaceuticals/data/Mouse_metadata.csv\"\n",
    "study_results_path = \"../Pymaceuticals/data/Study_results.csv\"\n",
    "\n",
    "# Read the mouse data and the study results\n",
    "mouse_metadata = pd.read_csv(mouse_metadata_path)\n",
    "study_results = pd.read_csv(study_results_path)\n",
    "\n",
    "# Combine the data into a single dataset\n",
    "merged_df = pd.merge(study_results, mouse_metadata, how = \"left\")\n",
    "\n",
    "# Display the data table for preview\n",
    "merged_df.head()\n"
   ]
  },
  {
   "cell_type": "code",
   "execution_count": 2,
   "metadata": {},
   "outputs": [
    {
     "data": {
      "text/plain": [
       "249"
      ]
     },
     "execution_count": 2,
     "metadata": {},
     "output_type": "execute_result"
    }
   ],
   "source": [
    "# Checking the number of mice.\n",
    "mice_count = merged_df[\"Mouse ID\"].nunique()\n",
    "mice_count"
   ]
  },
  {
   "cell_type": "code",
   "execution_count": 3,
   "metadata": {},
   "outputs": [
    {
     "data": {
      "text/plain": [
       "array(['g989'], dtype=object)"
      ]
     },
     "execution_count": 3,
     "metadata": {},
     "output_type": "execute_result"
    }
   ],
   "source": [
    "# Getting the duplicate mice by ID number that shows up for Mouse ID and Timepoint. \n",
    "duplicate_mice = merged_df[merged_df.duplicated(subset=[\"Mouse ID\", \"Timepoint\"])][\"Mouse ID\"].unique()\n",
    "duplicate_mice"
   ]
  },
  {
   "cell_type": "code",
   "execution_count": 4,
   "metadata": {},
   "outputs": [
    {
     "data": {
      "text/plain": [
       "array(['g989'], dtype=object)"
      ]
     },
     "execution_count": 4,
     "metadata": {},
     "output_type": "execute_result"
    }
   ],
   "source": [
    "# Optional: Get all the data for the duplicate mouse ID. \n",
    "#print.DataFrame(duplicate_mice)<- i tried this\n",
    "#duplicate_mice_df = merged_df.loc[merged_df[\"Mouse ID\"]==\"g989\",:]\n",
    "duplicate_ids = merged_df.loc[merged_df.duplicated(subset=['Mouse ID', 'Timepoint']),'Mouse ID'].unique()\n",
    "\n",
    "duplicate_ids"
   ]
  },
  {
   "cell_type": "code",
   "execution_count": 5,
   "metadata": {},
   "outputs": [
    {
     "data": {
      "text/html": [
       "<div>\n",
       "<style scoped>\n",
       "    .dataframe tbody tr th:only-of-type {\n",
       "        vertical-align: middle;\n",
       "    }\n",
       "\n",
       "    .dataframe tbody tr th {\n",
       "        vertical-align: top;\n",
       "    }\n",
       "\n",
       "    .dataframe thead th {\n",
       "        text-align: right;\n",
       "    }\n",
       "</style>\n",
       "<table border=\"1\" class=\"dataframe\">\n",
       "  <thead>\n",
       "    <tr style=\"text-align: right;\">\n",
       "      <th></th>\n",
       "      <th>Mouse ID</th>\n",
       "      <th>Timepoint</th>\n",
       "      <th>Tumor Volume (mm3)</th>\n",
       "      <th>Metastatic Sites</th>\n",
       "      <th>Drug Regimen</th>\n",
       "      <th>Sex</th>\n",
       "      <th>Age_months</th>\n",
       "      <th>Weight (g)</th>\n",
       "    </tr>\n",
       "  </thead>\n",
       "  <tbody>\n",
       "    <tr>\n",
       "      <th>0</th>\n",
       "      <td>b128</td>\n",
       "      <td>0</td>\n",
       "      <td>45.0</td>\n",
       "      <td>0</td>\n",
       "      <td>Capomulin</td>\n",
       "      <td>Female</td>\n",
       "      <td>9</td>\n",
       "      <td>22</td>\n",
       "    </tr>\n",
       "    <tr>\n",
       "      <th>1</th>\n",
       "      <td>f932</td>\n",
       "      <td>0</td>\n",
       "      <td>45.0</td>\n",
       "      <td>0</td>\n",
       "      <td>Ketapril</td>\n",
       "      <td>Male</td>\n",
       "      <td>15</td>\n",
       "      <td>29</td>\n",
       "    </tr>\n",
       "    <tr>\n",
       "      <th>2</th>\n",
       "      <td>g107</td>\n",
       "      <td>0</td>\n",
       "      <td>45.0</td>\n",
       "      <td>0</td>\n",
       "      <td>Ketapril</td>\n",
       "      <td>Female</td>\n",
       "      <td>2</td>\n",
       "      <td>29</td>\n",
       "    </tr>\n",
       "    <tr>\n",
       "      <th>3</th>\n",
       "      <td>a457</td>\n",
       "      <td>0</td>\n",
       "      <td>45.0</td>\n",
       "      <td>0</td>\n",
       "      <td>Ketapril</td>\n",
       "      <td>Female</td>\n",
       "      <td>11</td>\n",
       "      <td>30</td>\n",
       "    </tr>\n",
       "    <tr>\n",
       "      <th>4</th>\n",
       "      <td>c819</td>\n",
       "      <td>0</td>\n",
       "      <td>45.0</td>\n",
       "      <td>0</td>\n",
       "      <td>Ketapril</td>\n",
       "      <td>Male</td>\n",
       "      <td>21</td>\n",
       "      <td>25</td>\n",
       "    </tr>\n",
       "  </tbody>\n",
       "</table>\n",
       "</div>"
      ],
      "text/plain": [
       "  Mouse ID  Timepoint  Tumor Volume (mm3)  Metastatic Sites Drug Regimen  \\\n",
       "0     b128          0                45.0                 0    Capomulin   \n",
       "1     f932          0                45.0                 0     Ketapril   \n",
       "2     g107          0                45.0                 0     Ketapril   \n",
       "3     a457          0                45.0                 0     Ketapril   \n",
       "4     c819          0                45.0                 0     Ketapril   \n",
       "\n",
       "      Sex  Age_months  Weight (g)  \n",
       "0  Female           9          22  \n",
       "1    Male          15          29  \n",
       "2  Female           2          29  \n",
       "3  Female          11          30  \n",
       "4    Male          21          25  "
      ]
     },
     "execution_count": 5,
     "metadata": {},
     "output_type": "execute_result"
    }
   ],
   "source": [
    "# Create a clean DataFrame by dropping the duplicate mouse by its ID.\n",
    "\n",
    "#clean_data = merged_df.drop_duplicates([\"Mouse ID\"],inplace=False)\n",
    "#clean_data.head()\n",
    "clean_without_dup= merged_df[merged_df['Mouse ID'].isin(duplicate_ids)==False]\n",
    "clean_without_dup.head()\n"
   ]
  },
  {
   "cell_type": "code",
   "execution_count": 6,
   "metadata": {},
   "outputs": [
    {
     "data": {
      "text/plain": [
       "248"
      ]
     },
     "execution_count": 6,
     "metadata": {},
     "output_type": "execute_result"
    }
   ],
   "source": [
    "# Checking the number of mice in the clean DataFrame.\n",
    "\n",
    "clean_without_dup.nunique()[\"Mouse ID\"]"
   ]
  },
  {
   "cell_type": "markdown",
   "metadata": {},
   "source": [
    "## Summary Statistics"
   ]
  },
  {
   "cell_type": "code",
   "execution_count": 9,
   "metadata": {},
   "outputs": [
    {
     "data": {
      "text/html": [
       "<div>\n",
       "<style scoped>\n",
       "    .dataframe tbody tr th:only-of-type {\n",
       "        vertical-align: middle;\n",
       "    }\n",
       "\n",
       "    .dataframe tbody tr th {\n",
       "        vertical-align: top;\n",
       "    }\n",
       "\n",
       "    .dataframe thead th {\n",
       "        text-align: right;\n",
       "    }\n",
       "</style>\n",
       "<table border=\"1\" class=\"dataframe\">\n",
       "  <thead>\n",
       "    <tr style=\"text-align: right;\">\n",
       "      <th></th>\n",
       "      <th>Mean Tumor Volume</th>\n",
       "      <th>Median Tumor Volume</th>\n",
       "      <th>Variance Tumore Volume</th>\n",
       "      <th>St.Deviation Tumor Volume</th>\n",
       "      <th>SEM Tumor Volume</th>\n",
       "    </tr>\n",
       "    <tr>\n",
       "      <th>Drug Regimen</th>\n",
       "      <th></th>\n",
       "      <th></th>\n",
       "      <th></th>\n",
       "      <th></th>\n",
       "      <th></th>\n",
       "    </tr>\n",
       "  </thead>\n",
       "  <tbody>\n",
       "    <tr>\n",
       "      <th>Capomulin</th>\n",
       "      <td>40.675741</td>\n",
       "      <td>41.557809</td>\n",
       "      <td>24.947764</td>\n",
       "      <td>4.994774</td>\n",
       "      <td>0.329346</td>\n",
       "    </tr>\n",
       "    <tr>\n",
       "      <th>Ceftamin</th>\n",
       "      <td>52.591172</td>\n",
       "      <td>51.776157</td>\n",
       "      <td>39.290177</td>\n",
       "      <td>6.268188</td>\n",
       "      <td>0.469821</td>\n",
       "    </tr>\n",
       "    <tr>\n",
       "      <th>Infubinol</th>\n",
       "      <td>52.884795</td>\n",
       "      <td>51.820584</td>\n",
       "      <td>43.128684</td>\n",
       "      <td>6.567243</td>\n",
       "      <td>0.492236</td>\n",
       "    </tr>\n",
       "    <tr>\n",
       "      <th>Ketapril</th>\n",
       "      <td>55.235638</td>\n",
       "      <td>53.698743</td>\n",
       "      <td>68.553577</td>\n",
       "      <td>8.279709</td>\n",
       "      <td>0.603860</td>\n",
       "    </tr>\n",
       "    <tr>\n",
       "      <th>Naftisol</th>\n",
       "      <td>54.331565</td>\n",
       "      <td>52.509285</td>\n",
       "      <td>66.173479</td>\n",
       "      <td>8.134708</td>\n",
       "      <td>0.596466</td>\n",
       "    </tr>\n",
       "    <tr>\n",
       "      <th>Placebo</th>\n",
       "      <td>54.033581</td>\n",
       "      <td>52.288934</td>\n",
       "      <td>61.168083</td>\n",
       "      <td>7.821003</td>\n",
       "      <td>0.581331</td>\n",
       "    </tr>\n",
       "    <tr>\n",
       "      <th>Propriva</th>\n",
       "      <td>52.320930</td>\n",
       "      <td>50.446266</td>\n",
       "      <td>43.852013</td>\n",
       "      <td>6.622085</td>\n",
       "      <td>0.544332</td>\n",
       "    </tr>\n",
       "    <tr>\n",
       "      <th>Ramicane</th>\n",
       "      <td>40.216745</td>\n",
       "      <td>40.673236</td>\n",
       "      <td>23.486704</td>\n",
       "      <td>4.846308</td>\n",
       "      <td>0.320955</td>\n",
       "    </tr>\n",
       "    <tr>\n",
       "      <th>Stelasyn</th>\n",
       "      <td>54.233149</td>\n",
       "      <td>52.431737</td>\n",
       "      <td>59.450562</td>\n",
       "      <td>7.710419</td>\n",
       "      <td>0.573111</td>\n",
       "    </tr>\n",
       "    <tr>\n",
       "      <th>Zoniferol</th>\n",
       "      <td>53.236507</td>\n",
       "      <td>51.818479</td>\n",
       "      <td>48.533355</td>\n",
       "      <td>6.966589</td>\n",
       "      <td>0.516398</td>\n",
       "    </tr>\n",
       "  </tbody>\n",
       "</table>\n",
       "</div>"
      ],
      "text/plain": [
       "              Mean Tumor Volume   Median Tumor Volume   \\\n",
       "Drug Regimen                                             \n",
       "Capomulin              40.675741             41.557809   \n",
       "Ceftamin               52.591172             51.776157   \n",
       "Infubinol              52.884795             51.820584   \n",
       "Ketapril               55.235638             53.698743   \n",
       "Naftisol               54.331565             52.509285   \n",
       "Placebo                54.033581             52.288934   \n",
       "Propriva               52.320930             50.446266   \n",
       "Ramicane               40.216745             40.673236   \n",
       "Stelasyn               54.233149             52.431737   \n",
       "Zoniferol              53.236507             51.818479   \n",
       "\n",
       "              Variance Tumore Volume   St.Deviation Tumor Volume   \\\n",
       "Drug Regimen                                                        \n",
       "Capomulin                   24.947764                    4.994774   \n",
       "Ceftamin                    39.290177                    6.268188   \n",
       "Infubinol                   43.128684                    6.567243   \n",
       "Ketapril                    68.553577                    8.279709   \n",
       "Naftisol                    66.173479                    8.134708   \n",
       "Placebo                     61.168083                    7.821003   \n",
       "Propriva                    43.852013                    6.622085   \n",
       "Ramicane                    23.486704                    4.846308   \n",
       "Stelasyn                    59.450562                    7.710419   \n",
       "Zoniferol                   48.533355                    6.966589   \n",
       "\n",
       "              SEM Tumor Volume  \n",
       "Drug Regimen                    \n",
       "Capomulin             0.329346  \n",
       "Ceftamin              0.469821  \n",
       "Infubinol             0.492236  \n",
       "Ketapril              0.603860  \n",
       "Naftisol              0.596466  \n",
       "Placebo               0.581331  \n",
       "Propriva              0.544332  \n",
       "Ramicane              0.320955  \n",
       "Stelasyn              0.573111  \n",
       "Zoniferol             0.516398  "
      ]
     },
     "execution_count": 9,
     "metadata": {},
     "output_type": "execute_result"
    }
   ],
   "source": [
    "# Generate a summary statistics table of mean, median, variance, standard deviation, and SEM of the tumor volume for each regimen\n",
    "\n",
    "# Use groupby and summary statistical methods to calculate the following properties of each drug regimen: \n",
    "# mean, median, variance, standard deviation, and SEM of the tumor volume. \n",
    "# Assemble the resulting series into a single summary DataFrame.\n",
    "\n",
    "#clean_without_dup.describe()\n",
    "\n",
    "sem = clean_without_dup.groupby('Drug Regimen').sem()['Tumor Volume (mm3)']\n",
    "mean = clean_without_dup.groupby('Drug Regimen').mean()['Tumor Volume (mm3)']\n",
    "median = clean_without_dup.groupby('Drug Regimen').median()['Tumor Volume (mm3)']\n",
    "variance = clean_without_dup.groupby('Drug Regimen').var()['Tumor Volume (mm3)']\n",
    "standard_deviation = clean_without_dup.groupby('Drug Regimen').std()['Tumor Volume (mm3)']\n",
    "\n",
    "summary_drug_regimen = pd.DataFrame ({\n",
    "\"Mean Tumor Volume \": mean,\n",
    "\"Median Tumor Volume \": median,\n",
    "\"Variance Tumore Volume \": variance,\n",
    "\"St.Deviation Tumor Volume \": standard_deviation,\n",
    "\"SEM Tumor Volume\": sem\n",
    "\n",
    "})\n",
    "\n",
    "summary_drug_regimen"
   ]
  },
  {
   "cell_type": "code",
   "execution_count": 10,
   "metadata": {},
   "outputs": [
    {
     "data": {
      "text/html": [
       "<div>\n",
       "<style scoped>\n",
       "    .dataframe tbody tr th:only-of-type {\n",
       "        vertical-align: middle;\n",
       "    }\n",
       "\n",
       "    .dataframe tbody tr th {\n",
       "        vertical-align: top;\n",
       "    }\n",
       "\n",
       "    .dataframe thead tr th {\n",
       "        text-align: left;\n",
       "    }\n",
       "\n",
       "    .dataframe thead tr:last-of-type th {\n",
       "        text-align: right;\n",
       "    }\n",
       "</style>\n",
       "<table border=\"1\" class=\"dataframe\">\n",
       "  <thead>\n",
       "    <tr>\n",
       "      <th></th>\n",
       "      <th colspan=\"5\" halign=\"left\">Tumor Volume (mm3)</th>\n",
       "    </tr>\n",
       "    <tr>\n",
       "      <th></th>\n",
       "      <th>mean</th>\n",
       "      <th>median</th>\n",
       "      <th>var</th>\n",
       "      <th>std</th>\n",
       "      <th>sem</th>\n",
       "    </tr>\n",
       "    <tr>\n",
       "      <th>Drug Regimen</th>\n",
       "      <th></th>\n",
       "      <th></th>\n",
       "      <th></th>\n",
       "      <th></th>\n",
       "      <th></th>\n",
       "    </tr>\n",
       "  </thead>\n",
       "  <tbody>\n",
       "    <tr>\n",
       "      <th>Capomulin</th>\n",
       "      <td>40.675741</td>\n",
       "      <td>41.557809</td>\n",
       "      <td>24.947764</td>\n",
       "      <td>4.994774</td>\n",
       "      <td>0.329346</td>\n",
       "    </tr>\n",
       "    <tr>\n",
       "      <th>Ceftamin</th>\n",
       "      <td>52.591172</td>\n",
       "      <td>51.776157</td>\n",
       "      <td>39.290177</td>\n",
       "      <td>6.268188</td>\n",
       "      <td>0.469821</td>\n",
       "    </tr>\n",
       "    <tr>\n",
       "      <th>Infubinol</th>\n",
       "      <td>52.884795</td>\n",
       "      <td>51.820584</td>\n",
       "      <td>43.128684</td>\n",
       "      <td>6.567243</td>\n",
       "      <td>0.492236</td>\n",
       "    </tr>\n",
       "    <tr>\n",
       "      <th>Ketapril</th>\n",
       "      <td>55.235638</td>\n",
       "      <td>53.698743</td>\n",
       "      <td>68.553577</td>\n",
       "      <td>8.279709</td>\n",
       "      <td>0.603860</td>\n",
       "    </tr>\n",
       "    <tr>\n",
       "      <th>Naftisol</th>\n",
       "      <td>54.331565</td>\n",
       "      <td>52.509285</td>\n",
       "      <td>66.173479</td>\n",
       "      <td>8.134708</td>\n",
       "      <td>0.596466</td>\n",
       "    </tr>\n",
       "    <tr>\n",
       "      <th>Placebo</th>\n",
       "      <td>54.033581</td>\n",
       "      <td>52.288934</td>\n",
       "      <td>61.168083</td>\n",
       "      <td>7.821003</td>\n",
       "      <td>0.581331</td>\n",
       "    </tr>\n",
       "    <tr>\n",
       "      <th>Propriva</th>\n",
       "      <td>52.320930</td>\n",
       "      <td>50.446266</td>\n",
       "      <td>43.852013</td>\n",
       "      <td>6.622085</td>\n",
       "      <td>0.544332</td>\n",
       "    </tr>\n",
       "    <tr>\n",
       "      <th>Ramicane</th>\n",
       "      <td>40.216745</td>\n",
       "      <td>40.673236</td>\n",
       "      <td>23.486704</td>\n",
       "      <td>4.846308</td>\n",
       "      <td>0.320955</td>\n",
       "    </tr>\n",
       "    <tr>\n",
       "      <th>Stelasyn</th>\n",
       "      <td>54.233149</td>\n",
       "      <td>52.431737</td>\n",
       "      <td>59.450562</td>\n",
       "      <td>7.710419</td>\n",
       "      <td>0.573111</td>\n",
       "    </tr>\n",
       "    <tr>\n",
       "      <th>Zoniferol</th>\n",
       "      <td>53.236507</td>\n",
       "      <td>51.818479</td>\n",
       "      <td>48.533355</td>\n",
       "      <td>6.966589</td>\n",
       "      <td>0.516398</td>\n",
       "    </tr>\n",
       "  </tbody>\n",
       "</table>\n",
       "</div>"
      ],
      "text/plain": [
       "             Tumor Volume (mm3)                                          \n",
       "                           mean     median        var       std       sem\n",
       "Drug Regimen                                                             \n",
       "Capomulin             40.675741  41.557809  24.947764  4.994774  0.329346\n",
       "Ceftamin              52.591172  51.776157  39.290177  6.268188  0.469821\n",
       "Infubinol             52.884795  51.820584  43.128684  6.567243  0.492236\n",
       "Ketapril              55.235638  53.698743  68.553577  8.279709  0.603860\n",
       "Naftisol              54.331565  52.509285  66.173479  8.134708  0.596466\n",
       "Placebo               54.033581  52.288934  61.168083  7.821003  0.581331\n",
       "Propriva              52.320930  50.446266  43.852013  6.622085  0.544332\n",
       "Ramicane              40.216745  40.673236  23.486704  4.846308  0.320955\n",
       "Stelasyn              54.233149  52.431737  59.450562  7.710419  0.573111\n",
       "Zoniferol             53.236507  51.818479  48.533355  6.966589  0.516398"
      ]
     },
     "execution_count": 10,
     "metadata": {},
     "output_type": "execute_result"
    }
   ],
   "source": [
    "# Generate a summary statistics table of mean, median, variance, standard deviation, \n",
    "# and SEM of the tumor volume for each regimen\n",
    "\n",
    "# Using the aggregation method, produce the same summary statistics in a single line.\n",
    "\n",
    "summary_agg = clean_without_dup.groupby(['Drug Regimen'])[['Tumor Volume (mm3)']].agg(['mean', 'median', 'var', 'std', 'sem'])\n",
    "summary_agg"
   ]
  },
  {
   "cell_type": "markdown",
   "metadata": {},
   "source": [
    "## Bar and Pie Charts"
   ]
  },
  {
   "cell_type": "code",
   "execution_count": 11,
   "metadata": {},
   "outputs": [
    {
     "data": {
      "image/png": "[encoded data removed]",
      "text/plain": [
       "<Figure size 640x480 with 1 Axes>"
      ]
     },
     "metadata": {},
     "output_type": "display_data"
    }
   ],
   "source": [
    "# Generate a bar plot showing the total number of timepoints for all mice tested for each drug regimen using Pandas.\n",
    "\n",
    "#ANSWER:we have to first have the mice count in cleaned data:\n",
    "mice_count = clean_without_dup[\"Drug Regimen\"].value_counts()\n",
    "mice_count\n",
    "#now to plt a bar chart in pandas, i learned this function from internet:\n",
    "plot_pandas = mice_count.plot.bar(color='b') \n",
    "plt.xlabel(\"Drug Regimen\")\n",
    "plt.ylabel(\"Number of Mice\")\n",
    "plt.title(\"Number of Mice per Treatment\")\n",
    "plt.show\n",
    "plt.savefig('bar_plot.png')"
   ]
  },
  {
   "cell_type": "code",
   "execution_count": 12,
   "metadata": {},
   "outputs": [
    {
     "data": {
      "image/png": "[encoded data removed]",
      "text/plain": [
       "<Figure size 640x480 with 1 Axes>"
      ]
     },
     "metadata": {},
     "output_type": "display_data"
    }
   ],
   "source": [
    "# Generate a bar plot showing the total number of timepoints for all mice tested for each drug regimen using pyplot.\n",
    "x_axis = mice_count.index.values\n",
    "y_axis = mice_count.values\n",
    "\n",
    "plt.bar(x_axis, y_axis, color ='blue', label='Mice Count')\n",
    "plt.xlabel('Drug Regiment')\n",
    "plt.ylabel(\"Number of Tested Mice\")\n",
    "plt.xticks(rotation='vertical')\n",
    "plt.show\n",
    "plt.savefig('bar_plot2.png')"
   ]
  },
  {
   "cell_type": "code",
   "execution_count": 13,
   "metadata": {},
   "outputs": [
    {
     "data": {
      "image/png": "[encoded data removed]",
      "text/plain": [
       "<Figure size 500x500 with 1 Axes>"
      ]
     },
     "metadata": {},
     "output_type": "display_data"
    }
   ],
   "source": [
    "# Generate a pie plot showing the distribution of female versus male mice using Pandas\n",
    "#ANSWER:we have to first have the mice count in cleaned data:\n",
    "mice_count_gender = clean_without_dup[\"Sex\"].value_counts()\n",
    "mice_count_gender\n",
    "#now to plt a pie chart in pandas, i learned this function from internet:\n",
    "mice_count_gender.plot(kind='pie', y='Count', figsize=(5, 5), autopct='%1.1f%%')\n",
    "\n",
    "plt.show\n",
    "plt.savefig('piechart.png')"
   ]
  },
  {
   "cell_type": "code",
   "execution_count": 14,
   "metadata": {},
   "outputs": [
    {
     "data": {
      "image/png": "[encoded data removed]",
      "text/plain": [
       "<Figure size 640x480 with 1 Axes>"
      ]
     },
     "metadata": {},
     "output_type": "display_data"
    },
    {
     "data": {
      "text/plain": [
       "<Figure size 640x480 with 0 Axes>"
      ]
     },
     "metadata": {},
     "output_type": "display_data"
    }
   ],
   "source": [
    "# Generate a pie plot showing the distribution of female versus male mice using pyplot\n",
    "#color =['blue', 'orange']\n",
    "#labels =\"Sex\"\n",
    "#explode= 0\n",
    "#data = mice_count_gender\n",
    "#plt.pie(data,size= 5, explode='explode', labels=\"Sex\", colors=color)\n",
    "#plt.show\n",
    "labels = ['Female', 'Male']\n",
    "sizes = [49.7999197, 50.200803]\n",
    "plot = mice_count_gender.plot.pie(y='Total Count', autopct=\"%1.1f%%\")\n",
    "plt.ylabel('Sex')\n",
    "plt.show()\n",
    "plt.savefig('piechart_gender.png')"
   ]
  },
  {
   "cell_type": "markdown",
   "metadata": {},
   "source": [
    "## Quartiles, Outliers and Boxplots"
   ]
  },
  {
   "cell_type": "code",
   "execution_count": 15,
   "metadata": {},
   "outputs": [
    {
     "data": {
      "text/html": [
       "<div>\n",
       "<style scoped>\n",
       "    .dataframe tbody tr th:only-of-type {\n",
       "        vertical-align: middle;\n",
       "    }\n",
       "\n",
       "    .dataframe tbody tr th {\n",
       "        vertical-align: top;\n",
       "    }\n",
       "\n",
       "    .dataframe thead th {\n",
       "        text-align: right;\n",
       "    }\n",
       "</style>\n",
       "<table border=\"1\" class=\"dataframe\">\n",
       "  <thead>\n",
       "    <tr style=\"text-align: right;\">\n",
       "      <th></th>\n",
       "      <th>Mouse ID</th>\n",
       "      <th>Timepoint</th>\n",
       "      <th>Tumor Volume (mm3)</th>\n",
       "      <th>Metastatic Sites</th>\n",
       "      <th>Drug Regimen</th>\n",
       "      <th>Sex</th>\n",
       "      <th>Age_months</th>\n",
       "      <th>Weight (g)</th>\n",
       "    </tr>\n",
       "  </thead>\n",
       "  <tbody>\n",
       "    <tr>\n",
       "      <th>0</th>\n",
       "      <td>a203</td>\n",
       "      <td>45</td>\n",
       "      <td>67.973419</td>\n",
       "      <td>2</td>\n",
       "      <td>Infubinol</td>\n",
       "      <td>Female</td>\n",
       "      <td>20</td>\n",
       "      <td>23</td>\n",
       "    </tr>\n",
       "    <tr>\n",
       "      <th>1</th>\n",
       "      <td>a251</td>\n",
       "      <td>45</td>\n",
       "      <td>65.525743</td>\n",
       "      <td>1</td>\n",
       "      <td>Infubinol</td>\n",
       "      <td>Female</td>\n",
       "      <td>21</td>\n",
       "      <td>25</td>\n",
       "    </tr>\n",
       "    <tr>\n",
       "      <th>2</th>\n",
       "      <td>a262</td>\n",
       "      <td>45</td>\n",
       "      <td>70.717621</td>\n",
       "      <td>4</td>\n",
       "      <td>Placebo</td>\n",
       "      <td>Female</td>\n",
       "      <td>17</td>\n",
       "      <td>29</td>\n",
       "    </tr>\n",
       "    <tr>\n",
       "      <th>3</th>\n",
       "      <td>a275</td>\n",
       "      <td>45</td>\n",
       "      <td>62.999356</td>\n",
       "      <td>3</td>\n",
       "      <td>Ceftamin</td>\n",
       "      <td>Female</td>\n",
       "      <td>20</td>\n",
       "      <td>28</td>\n",
       "    </tr>\n",
       "    <tr>\n",
       "      <th>4</th>\n",
       "      <td>a366</td>\n",
       "      <td>30</td>\n",
       "      <td>63.440686</td>\n",
       "      <td>1</td>\n",
       "      <td>Stelasyn</td>\n",
       "      <td>Female</td>\n",
       "      <td>16</td>\n",
       "      <td>29</td>\n",
       "    </tr>\n",
       "    <tr>\n",
       "      <th>...</th>\n",
       "      <td>...</td>\n",
       "      <td>...</td>\n",
       "      <td>...</td>\n",
       "      <td>...</td>\n",
       "      <td>...</td>\n",
       "      <td>...</td>\n",
       "      <td>...</td>\n",
       "      <td>...</td>\n",
       "    </tr>\n",
       "    <tr>\n",
       "      <th>243</th>\n",
       "      <td>z435</td>\n",
       "      <td>10</td>\n",
       "      <td>48.710661</td>\n",
       "      <td>0</td>\n",
       "      <td>Propriva</td>\n",
       "      <td>Female</td>\n",
       "      <td>12</td>\n",
       "      <td>26</td>\n",
       "    </tr>\n",
       "    <tr>\n",
       "      <th>244</th>\n",
       "      <td>z578</td>\n",
       "      <td>45</td>\n",
       "      <td>30.638696</td>\n",
       "      <td>0</td>\n",
       "      <td>Ramicane</td>\n",
       "      <td>Male</td>\n",
       "      <td>11</td>\n",
       "      <td>16</td>\n",
       "    </tr>\n",
       "    <tr>\n",
       "      <th>245</th>\n",
       "      <td>z581</td>\n",
       "      <td>45</td>\n",
       "      <td>62.754451</td>\n",
       "      <td>3</td>\n",
       "      <td>Infubinol</td>\n",
       "      <td>Female</td>\n",
       "      <td>24</td>\n",
       "      <td>25</td>\n",
       "    </tr>\n",
       "    <tr>\n",
       "      <th>246</th>\n",
       "      <td>z795</td>\n",
       "      <td>45</td>\n",
       "      <td>65.741070</td>\n",
       "      <td>3</td>\n",
       "      <td>Naftisol</td>\n",
       "      <td>Female</td>\n",
       "      <td>13</td>\n",
       "      <td>29</td>\n",
       "    </tr>\n",
       "    <tr>\n",
       "      <th>247</th>\n",
       "      <td>z969</td>\n",
       "      <td>45</td>\n",
       "      <td>73.867845</td>\n",
       "      <td>4</td>\n",
       "      <td>Naftisol</td>\n",
       "      <td>Male</td>\n",
       "      <td>9</td>\n",
       "      <td>30</td>\n",
       "    </tr>\n",
       "  </tbody>\n",
       "</table>\n",
       "<p>248 rows × 8 columns</p>\n",
       "</div>"
      ],
      "text/plain": [
       "    Mouse ID  Timepoint  Tumor Volume (mm3)  Metastatic Sites Drug Regimen  \\\n",
       "0       a203         45           67.973419                 2    Infubinol   \n",
       "1       a251         45           65.525743                 1    Infubinol   \n",
       "2       a262         45           70.717621                 4      Placebo   \n",
       "3       a275         45           62.999356                 3     Ceftamin   \n",
       "4       a366         30           63.440686                 1     Stelasyn   \n",
       "..       ...        ...                 ...               ...          ...   \n",
       "243     z435         10           48.710661                 0     Propriva   \n",
       "244     z578         45           30.638696                 0     Ramicane   \n",
       "245     z581         45           62.754451                 3    Infubinol   \n",
       "246     z795         45           65.741070                 3     Naftisol   \n",
       "247     z969         45           73.867845                 4     Naftisol   \n",
       "\n",
       "        Sex  Age_months  Weight (g)  \n",
       "0    Female          20          23  \n",
       "1    Female          21          25  \n",
       "2    Female          17          29  \n",
       "3    Female          20          28  \n",
       "4    Female          16          29  \n",
       "..      ...         ...         ...  \n",
       "243  Female          12          26  \n",
       "244    Male          11          16  \n",
       "245  Female          24          25  \n",
       "246  Female          13          29  \n",
       "247    Male           9          30  \n",
       "\n",
       "[248 rows x 8 columns]"
      ]
     },
     "execution_count": 15,
     "metadata": {},
     "output_type": "execute_result"
    }
   ],
   "source": [
    "# Calculate the final tumor volume of each mouse across four of the treatment regimens:  \n",
    "# Capomulin, Ramicane, Infubinol, and Ceftamin\n",
    "\n",
    "\n",
    "#tumor_volume = clean_without_dup.loc[clean_without_dup['Drug Regimen'].isin(['Capomulin', 'Ramicane', 'Infubinol', 'Ceftamin'])]['Tumor Volume (mm3)']\n",
    "#tumor_volume\n",
    "\n",
    "capomulin = clean_without_dup.loc[clean_without_dup[\"Drug Regimen\"] == \"Capomulin\",:]\n",
    "ramicane = clean_without_dup.loc[clean_without_dup[\"Drug Regimen\"] == \"Ramicane\",:]\n",
    "infubinol = clean_without_dup.loc[clean_without_dup[\"Drug Regimen\"] == \"Infubinol\",:]\n",
    "ceftamin = clean_without_dup.loc[clean_without_dup[\"Drug Regimen\"] == \"Ceftamin\",:]\n",
    "\n",
    "# Start by getting the last (greatest) timepoint for each mouse\n",
    "\n",
    "max_tumor = clean_without_dup.groupby([\"Mouse ID\"])['Timepoint'].max()\n",
    "max_tumor = max_tumor.reset_index()\n",
    "\n",
    "\n",
    "# Merge this group df with the original DataFrame to get the tumor volume at the last timepoint\n",
    "merged_data2 = max_tumor.merge(clean_without_dup,on=['Mouse ID','Timepoint'],how=\"left\")\n",
    "merged_data2"
   ]
  },
  {
   "cell_type": "code",
   "execution_count": 16,
   "metadata": {},
   "outputs": [
    {
     "name": "stdout",
     "output_type": "stream",
     "text": [
      "The lower quartile of Capomulin tumor volume is: 32.37735684\n",
      "The upper quartile of Capomulin tumor volume is: 40.1592203\n",
      "The interquartile range of Capomulin tumor volume is: 7.781863460000004\n",
      "The the median of Capomulin tumor volume is: 38.1251644 \n",
      "Values below 20.70456164999999 could be outliers.\n",
      "Values above 51.83201549 could be outliers.\n",
      "There are no potential outliers for Capomulin.\n",
      "\n",
      "The lower quartile of Ramicane tumor volume is: 31.56046955\n",
      "The upper quartile of Ramicane tumor volume is: 40.65900627\n",
      "The interquartile range of Ramicane tumor volume is: 9.098536719999998\n",
      "The the median of Ramicane tumor volume is: 36.56165229 \n",
      "Values below 17.912664470000003 could be outliers.\n",
      "Values above 54.30681135 could be outliers.\n",
      "There are no potential outliers for Ramicane.\n",
      "\n",
      "The lower quartile of Infubinol tumor volume is: 54.04860769\n",
      "The upper quartile of Infubinol tumor volume is: 65.52574285\n",
      "The interquartile range of Infubinol tumor volume is: 11.477135160000003\n",
      "The the median of Infubinol tumor volume is: 60.16518046 \n",
      "Values below 36.83290494999999 could be outliers.\n",
      "Values above 82.74144559000001 could be outliers.\n",
      "The the potential outliers for Infubinol are: [36.3213458]\n",
      "\n",
      "The lower quartile of Ceftamin tumor volume is: 48.72207785\n",
      "The upper quartile of Ceftamin tumor volume is: 64.29983003\n",
      "The interquartile range of Ceftamin tumor volume is: 15.577752179999997\n",
      "The the median of Ceftamin tumor volume is: 59.85195552 \n",
      "Values below 25.355449580000002 could be outliers.\n",
      "Values above 87.66645829999999 could be outliers.\n",
      "There are no potential outliers for Ceftamin.\n",
      "\n"
     ]
    }
   ],
   "source": [
    "# Put treatments into a list for for loop (and later for plot labels)\n",
    "Treatments=[\"Capomulin\",\"Ramicane\",\"Infubinol\",\"Ceftamin\"]\n",
    "\n",
    "# Create empty list to fill with tumor vol data (for plotting)\n",
    "Tumors=[[] for i in range(4)]\n",
    "for i in range(248):\n",
    "    DR=merged_data2.iloc[i,:][\"Drug Regimen\"]\n",
    "    Tum=merged_data2.iloc[i,:][\"Tumor Volume (mm3)\"]\n",
    "    for j in range(4):\n",
    "        if DR==Treatments[j]:\n",
    "            Tumors[j].append(Tum)\n",
    "            continue\n",
    "# Calculate the IQR and quantitatively determine if there are any potential outliers. \n",
    "quartiles=[[] for i in range(4)]\n",
    "lowerq=[[] for i in range(4)]\n",
    "upperq=[[] for i in range(4)]\n",
    "iqr=[[] for i in range(4)]\n",
    "lower_bound=[[] for i in range(4)]\n",
    "upper_bound=[[] for i in range(4)]\n",
    "potential_outliers=[[] for i in range(4)]\n",
    "\n",
    "for Num,Treatment in enumerate(Treatments):\n",
    "    quartiles[Num] = merged_data2.loc[merged_data2[\"Drug Regimen\"]==Treatment,:][\"Tumor Volume (mm3)\"].quantile([.25,.5,.75])\n",
    "    lowerq[Num] = quartiles[Num][0.25]\n",
    "    upperq[Num] = quartiles[Num][0.75]\n",
    "    iqr[Num] = upperq[Num]-lowerq[Num]\n",
    "\n",
    "    print(f\"The lower quartile of {Treatment} tumor volume is: {lowerq[Num]}\")\n",
    "    print(f\"The upper quartile of {Treatment} tumor volume is: {upperq[Num]}\")\n",
    "    print(f\"The interquartile range of {Treatment} tumor volume is: {iqr[Num]}\")\n",
    "    print(f\"The the median of {Treatment} tumor volume is: {quartiles[Num][0.5]} \")\n",
    "\n",
    "    lower_bound[Num] = lowerq[Num] - (1.5*iqr[Num])\n",
    "    upper_bound[Num] = upperq[Num] + (1.5*iqr[Num])\n",
    "    print(f\"Values below {lower_bound[Num]} could be outliers.\")\n",
    "    print(f\"Values above {upper_bound[Num]} could be outliers.\")\n",
    "\n",
    "    #Printing any potential outliers\n",
    "    for Tumor in Tumors[Num]:\n",
    "        if Tumor>upper_bound[Num] or Tumor < lower_bound[Num]:\n",
    "            potential_outliers[Num].append(Tumor)\n",
    "    if len(potential_outliers[Num])>0:\n",
    "        print(f\"The the potential outliers for {Treatment} are: {potential_outliers[Num]}\\n\")\n",
    "    else:\n",
    "        print(f\"There are no potential outliers for {Treatment}.\\n\")\n"
   ]
  },
  {
   "cell_type": "code",
   "execution_count": 17,
   "metadata": {},
   "outputs": [
    {
     "data": {
      "image/png": "[encoded data removed]",
      "text/plain": [
       "<Figure size 800x500 with 4 Axes>"
      ]
     },
     "metadata": {},
     "output_type": "display_data"
    },
    {
     "data": {
      "text/plain": [
       "<Figure size 640x480 with 0 Axes>"
      ]
     },
     "metadata": {},
     "output_type": "display_data"
    }
   ],
   "source": [
    "# Generate a box plot that shows the distrubution of the tumor volume for each treatment group.\n",
    "\n",
    "fig, (ax1, ax2, ax3, ax4) = plt.subplots(ncols=4,sharey=True,figsize=(8,5))\n",
    "fig.suptitle(\"Final Tumor Volumes by Regimen\", fontsize=16, fontweight=\"bold\")\n",
    "\n",
    "ax1.set_ylabel('Volume (mm3)')\n",
    "ax1.set_title(Treatments[0])\n",
    "ax1.boxplot(Tumors[0])\n",
    "ax1.set_xticks([])\n",
    "\n",
    "ax2.set_title(Treatments[1])\n",
    "ax2.boxplot(Tumors[1])\n",
    "ax2.set_xticks([])\n",
    "\n",
    "ax3.set_title(Treatments[2])\n",
    "ax3.boxplot(Tumors[2])\n",
    "ax3.set_xticks([])\n",
    "\n",
    "ax4.set_title(Treatments[3])\n",
    "ax4.boxplot(Tumors[3])\n",
    "ax4.set_xticks([])\n",
    "\n",
    "plt.show()\n",
    "plt.savefig('boxplot.png')"
   ]
  },
  {
   "cell_type": "markdown",
   "metadata": {},
   "source": [
    "## Line and Scatter Plots"
   ]
  },
  {
   "cell_type": "code",
   "execution_count": 18,
   "metadata": {},
   "outputs": [
    {
     "data": {
      "image/png": "[encoded data removed]",
      "text/plain": [
       "<Figure size 640x480 with 1 Axes>"
      ]
     },
     "metadata": {},
     "output_type": "display_data"
    },
    {
     "data": {
      "text/plain": [
       "<Figure size 640x480 with 0 Axes>"
      ]
     },
     "metadata": {},
     "output_type": "display_data"
    }
   ],
   "source": [
    "# Generate a line plot of tumor volume vs. time point for a mouse treated with Capomulin\n",
    "treated_Mouse=clean_without_dup.loc[clean_without_dup[\"Mouse ID\"]=='l509',:]\n",
    "x_axis=treated_Mouse[\"Timepoint\"].count()\n",
    "plt.plot(treated_Mouse[\"Timepoint\"],treated_Mouse[\"Tumor Volume (mm3)\"],marker='s',color=\"y\")\n",
    "plt.title(\"Tumor Volume of Mouse ID l509 Over Time\")\n",
    "plt.xlabel(\"Timepoint\")\n",
    "plt.ylabel(\"Tumor Volume (mm3)\")\n",
    "plt.ylim(35,50)\n",
    "plt.show()\n",
    "plt.savefig('line_plot.png')"
   ]
  },
  {
   "cell_type": "code",
   "execution_count": 19,
   "metadata": {},
   "outputs": [
    {
     "data": {
      "image/png": "[encoded data removed]",
      "text/plain": [
       "<Figure size 640x480 with 1 Axes>"
      ]
     },
     "metadata": {},
     "output_type": "display_data"
    }
   ],
   "source": [
    "# Generate a scatter plot of average tumor volume vs. mouse weight for the Capomulin regimen\n",
    "\n",
    "fig1, ax1 = plt.subplots()\n",
    "avg_capm_vol =capomulin.groupby(['Mouse ID']).mean()\n",
    "\n",
    "marker_size=15\n",
    "plt.scatter(avg_capm_vol['Weight (g)'],avg_capm_vol['Tumor Volume (mm3)'], color=\"red\")\n",
    "plt.title('Mouse Weight Versus Average Tumor Volume')\n",
    "plt.xlabel('Weight (g)',fontsize =14)\n",
    "plt.ylabel('Averag Tumor Volume (mm3)')\n",
    "plt.savefig('scatter_plot.png')"
   ]
  },
  {
   "cell_type": "markdown",
   "metadata": {},
   "source": [
    "## Correlation and Regression"
   ]
  },
  {
   "cell_type": "code",
   "execution_count": 20,
   "metadata": {},
   "outputs": [
    {
     "name": "stdout",
     "output_type": "stream",
     "text": [
      "The correlation between mouse weight and the average tumor volume is 0.84\n",
      "The r-squared is: 0.709\n"
     ]
    },
    {
     "data": {
      "image/png": "[encoded data removed]",
      "text/plain": [
       "<Figure size 640x480 with 1 Axes>"
      ]
     },
     "metadata": {},
     "output_type": "display_data"
    },
    {
     "data": {
      "text/plain": [
       "<Figure size 640x480 with 0 Axes>"
      ]
     },
     "metadata": {},
     "output_type": "display_data"
    }
   ],
   "source": [
    "# Calculate the correlation coefficient and linear regression model \n",
    "\n",
    "correlation = st.pearsonr(avg_capm_vol['Weight (g)'],avg_capm_vol['Tumor Volume (mm3)'])\n",
    "print(f\"The correlation between mouse weight and the average tumor volume is {round(correlation[0],2)}\")\n",
    "\n",
    "# for mouse weight and average tumor volume for the Capomulin regimen\n",
    "(slope, intercept,rvalue, pvalue, stderr)= st.linregress(avg_capm_vol[\"Weight (g)\"],avg_capm_vol[\"Tumor Volume (mm3)\"])\n",
    "regress_values=avg_capm_vol[\"Weight (g)\"]* slope + intercept\n",
    "line_eq= f\"y = {round(slope, 2)} x + {round(intercept, 2)}\"\n",
    "\n",
    "plt.scatter(avg_capm_vol[\"Weight (g)\"],avg_capm_vol[\"Tumor Volume (mm3)\"],color='r')\n",
    "plt.plot(avg_capm_vol[\"Weight (g)\"], regress_values, color='black')\n",
    "plt.annotate(line_eq,(20,36), fontsize=14)\n",
    "plt.xlabel(\"Weight (g)\")\n",
    "plt.ylabel(\"Tumor Volume (mm3)\")\n",
    "plt.title(\"Weight vs Tumor Volume for Capomulin\")\n",
    "print(f\"The r-squared is: {round(rvalue**2,3)}\")\n",
    "plt.show()\n",
    "plt.savefig('regressionline.png')"
   ]
  }
 ],
 "metadata": {
  "kernelspec": {
   "display_name": "base",
   "language": "python",
   "name": "python3"
  },
  "language_info": {
   "codemirror_mode": {
    "name": "ipython",
    "version": 3
   },
   "file_extension": ".py",
   "mimetype": "text/x-python",
   "name": "python",
   "nbconvert_exporter": "python",
   "pygments_lexer": "ipython3",
   "version": "3.9.17"
  },
  "orig_nbformat": 4
 },
 "nbformat": 4,
 "nbformat_minor": 2
}
